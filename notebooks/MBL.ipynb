{
 "cells": [
  {
   "cell_type": "markdown",
   "metadata": {},
   "source": [
    "# Many-Body Localization\n",
    "\n",
    "## Adiabatic Control of Parameters\n",
    "\n",
    "<br>\n",
    "<img align=\"left\" width=\"80\"  src=\"https://img.shields.io/badge/python-v3.6-blue.svg\">\n",
    "<br>\n",
    "\n",
    "### Notebook by [Marco Tavora](https://marcotavora.me/)\n",
    "\n"
   ]
  },
  {
   "cell_type": "markdown",
   "metadata": {},
   "source": [
    "<img src=\"mbl.jpg\" style=\"height:300px;\"/>\n",
    "\n",
    "**Fig.1**: Occupation discontinuity as a function of disorder strength and energy density for spinless fermions in 1D with nearest-neighbor repulsion and diagonal disorder (Source: [Bera S., Schomerus H., Heidrich-Meisner F., and H. Bardarson J.](https://journals.aps.org/prl/abstract/10.1103/PhysRevLett.115.046603)."
   ]
  },
  {
   "cell_type": "markdown",
   "metadata": {},
   "source": [
    "## Table of contents\n",
    "\n",
    "1. [Introduction](#Introduction)\n",
    "2. [Can the system adiabatically follow the ramp?](#Can-the-system-adiabatically-follow-the-ramp)\n",
    "2. [Importing packages](#Importing-packages)\n",
    "3. [Acknowledgements](#Acknowledgements)"
   ]
  },
  {
   "cell_type": "markdown",
   "metadata": {},
   "source": [
    "## Introduction\n",
    "[[go back to the top]](#Table-of-contents)\n",
    "\n",
    "Let us consider a closed quantum system:\n",
    "\n",
    "<img src=\"closed_system.png\" style=\"height:150px;\"/>\n",
    "<br>\n",
    "\n",
    "The (time-dependent) Hamiltonian, known to exhibit a [MBL dynamical phase transition](https://journals.aps.org/prb/abstract/10.1103/PhysRevB.92.014208) reads:\n",
    "\n",
    "\\begin{eqnarray}\n",
    "H(t) = \\sum\\limits_{i = 0}^{L - 2} {\\left[ {\\frac{{{J_{xy}}}}{2}(S_{i + 1}^ + S_i^ -  + S_i^ + S_{i + 1}^ - ) + {J_{zz}}(t)S_{i + 1}^zS_i^z} \\right]}  + \\sum\\limits_{i = 0}^{L - 1} {{h_i}S_i^z} ,\\,\\,\\,\\,\\,\\,\\,\\,\\,\\,{J_{zz}}(t) = (1/2 + vt).\n",
    "\\end{eqnarray}\n",
    "\n",
    "The parameters here are:\n",
    "- $h_j$: random field  in the $z$-direction, uniformly distributed within the interval $[-h_0,h_0]$\n",
    "- $J_{zz}(t)$ is modulated adiabatically and with ramp speed $v$"
   ]
  },
  {
   "cell_type": "markdown",
   "metadata": {},
   "source": [
    "## Can the system adiabatically follow the ramp?\n",
    "[[go back to the top]](#Table-of-contents)\n",
    "\n",
    "It has been argued [quite recently](https://www.nature.com/articles/nphys3344) that the adiabatic theorem cannot be applied to disordered systems. \n",
    "\n",
    "We will address here the following question: can the system follow the ramp (varying $v$) adiabatically, a least in part? More concretely, we will evolve the system from $t_i=0$ to $t=(2v)^{-1}$.\n",
    "\n",
    "To assure tipicality, the initial state we will chose  will be an eigenstate of the initial Hamiltonian with the energy closest to the middle spectrum. \n",
    "\n",
    "\n",
    "## Indicators\n",
    "[[go back to the top]](#Table-of-contents)\n",
    "\n",
    "The following indicators will be used to verify if the system can follow the ramp adiabatically:\n",
    "- diagonal entropy density\n",
    "- entanglement entropy density\n",
    "\n",
    "We will calculate the (disorder-averaged) expressions for bioth entropies in terms of the velocity parameter.\n",
    "\n",
    "### Diagonal entropy density\n",
    "\n",
    "The diagonal entropy density reads:\n",
    "\n",
    "$${s_d}(t) =  - \\frac{1}{L}\\,{\\rm{Tr}}\\,{\\rho _d}(t)\\ln {\\rho _d}(t),\\,\\,\\,\\,\\,\\,\\,\\,\\,{\\rho _d}(t) = \\sum\\nolimits_n {{{\\left| {\\left\\langle {n|\\psi (t)} \\right\\rangle } \\right|}^2}\\left| n \\right\\rangle \\langle n|} {\\rm{ }}$$\n",
    "\n",
    "${s_d}(t)$ measures of degree of delocalization of the final state among the eigenstates $H(t)$ (e.g. if the final state of the system is a single eigenstate of $H(t)$, ${s_d}(t)=0$)\n",
    "\n",
    "### Entanglement entropy density\n",
    "\n",
    "$${s_e}(t) =  - \\frac{1}{{|A|}}{\\rm{Tr}}{\\,_A}{\\rho _A}(t)\\ln {\\rho _A}(t),\\,\\,\\,\\,\\,\\,\\,\\,\\,{\\rho _A}(t) = {\\rm{T}}{{\\rm{r}}_{{A^c}}}\\,\\left| {\\psi (t)} \\right\\rangle \\langle \\psi (t)|.$$\n",
    "\n",
    "Here:\n",
    "- $t$ is the final time\n",
    "- $A$ is a subsystem containing the left half of the system\n",
    "- $\\rho_A$ is its reduced density matrix\n",
    "- $|A|=1/2$. \n"
   ]
  },
  {
   "cell_type": "markdown",
   "metadata": {},
   "source": [
    "## Code\n",
    "[[go back to the top]](#Table-of-contents)\n",
    "\n",
    "### Importing packages\n",
    "\n",
    "\n",
    "This notebook will follow very closely the documentation found [here](https://scipost.org/SciPostPhys.2.1.003/pdf). The first step is to import the necessary `Python` modules. Besides some of the usual `Python` packages, we will need the following packages from ` QuSpin`:\n",
    "- The basis module `quspin.basis` to build the Hilbert space\n",
    "- The operators module `quspin.operators` to build the Hamiltonian and operators\n",
    "- `quspin.tools.measurements` for the entropies"
   ]
  },
  {
   "cell_type": "markdown",
   "metadata": {},
   "source": [
    "### `Python` packages\n",
    "\n",
    "The module `auxiliar_functions` contains auxiliar functions I wrote to make the code briefer."
   ]
  },
  {
   "cell_type": "code",
   "execution_count": 5,
   "metadata": {},
   "outputs": [],
   "source": [
    "import sys,os\n",
    "import numpy as np\n",
    "import numpy as np \n",
    "from time import time\n",
    "import auxiliar_functions as aux\n",
    "import pandas as pd\n",
    "import matplotlib.pyplot as plt\n",
    "%matplotlib inline "
   ]
  },
  {
   "cell_type": "markdown",
   "metadata": {},
   "source": [
    "### ` QuSpin` packages"
   ]
  },
  {
   "cell_type": "code",
   "execution_count": 6,
   "metadata": {},
   "outputs": [],
   "source": [
    "from quspin.operators import hamiltonian \n",
    "from quspin.basis import spin_basis_1d \n",
    "from quspin.tools.measurements import ent_entropy, diag_ensemble "
   ]
  },
  {
   "cell_type": "markdown",
   "metadata": {},
   "source": [
    "## Parameters\n",
    "[[go back to the top]](#Table-of-contents)\n",
    "\n",
    "We need to choose the following parameters:\n",
    "- The number of disorder realizations `n_real`\n",
    "- The number of processes used for parallelisation `n_jobs`\n",
    "- System size `L`\n",
    "- `Jxy` interaction \n",
    "- `Jzz_0` interaction \n",
    "- MBL disorder strength `h_MBL`\n",
    "- Delocalized disorder strength `h_ETH`"
   ]
  },
  {
   "cell_type": "code",
   "execution_count": 7,
   "metadata": {},
   "outputs": [],
   "source": [
    "n_real, n_jobs =20, 2 \n",
    "L, Jxy, Jzz_0, h_MBL, h_ETH =10, 1.0, 1.0, 3.9, 0.1  "
   ]
  },
  {
   "cell_type": "markdown",
   "metadata": {},
   "source": [
    "We create an array `vs` for the velocity $v$: "
   ]
  },
  {
   "cell_type": "code",
   "execution_count": 8,
   "metadata": {},
   "outputs": [
    {
     "data": {
      "text/plain": [
       "numpy.ndarray"
      ]
     },
     "execution_count": 8,
     "metadata": {},
     "output_type": "execute_result"
    }
   ],
   "source": [
    "vs = np.logspace(-2.0,0.0,num=20,base=10)\n",
    "type(vs)"
   ]
  },
  {
   "cell_type": "code",
   "execution_count": 9,
   "metadata": {},
   "outputs": [
    {
     "name": "stdout",
     "output_type": "stream",
     "text": [
      "The ramp speeds are:\n"
     ]
    },
    {
     "data": {
      "text/html": [
       "<div>\n",
       "<style scoped>\n",
       "    .dataframe tbody tr th:only-of-type {\n",
       "        vertical-align: middle;\n",
       "    }\n",
       "\n",
       "    .dataframe tbody tr th {\n",
       "        vertical-align: top;\n",
       "    }\n",
       "\n",
       "    .dataframe thead th {\n",
       "        text-align: right;\n",
       "    }\n",
       "</style>\n",
       "<table border=\"1\" class=\"dataframe\">\n",
       "  <thead>\n",
       "    <tr style=\"text-align: right;\">\n",
       "      <th></th>\n",
       "      <th>0</th>\n",
       "      <th>1</th>\n",
       "      <th>2</th>\n",
       "      <th>3</th>\n",
       "      <th>4</th>\n",
       "      <th>5</th>\n",
       "      <th>6</th>\n",
       "      <th>7</th>\n",
       "      <th>8</th>\n",
       "      <th>9</th>\n",
       "      <th>10</th>\n",
       "      <th>11</th>\n",
       "      <th>12</th>\n",
       "      <th>13</th>\n",
       "      <th>14</th>\n",
       "      <th>15</th>\n",
       "      <th>16</th>\n",
       "      <th>17</th>\n",
       "      <th>18</th>\n",
       "      <th>19</th>\n",
       "    </tr>\n",
       "  </thead>\n",
       "  <tbody>\n",
       "    <tr>\n",
       "      <th>v</th>\n",
       "      <td>0.01</td>\n",
       "      <td>0.012743</td>\n",
       "      <td>0.016238</td>\n",
       "      <td>0.020691</td>\n",
       "      <td>0.026367</td>\n",
       "      <td>0.033598</td>\n",
       "      <td>0.042813</td>\n",
       "      <td>0.054556</td>\n",
       "      <td>0.069519</td>\n",
       "      <td>0.088587</td>\n",
       "      <td>0.112884</td>\n",
       "      <td>0.143845</td>\n",
       "      <td>0.183298</td>\n",
       "      <td>0.233572</td>\n",
       "      <td>0.297635</td>\n",
       "      <td>0.379269</td>\n",
       "      <td>0.483293</td>\n",
       "      <td>0.615848</td>\n",
       "      <td>0.78476</td>\n",
       "      <td>1.0</td>\n",
       "    </tr>\n",
       "  </tbody>\n",
       "</table>\n",
       "</div>"
      ],
      "text/plain": [
       "     0         1         2         3         4         5         6         7   \\\n",
       "v  0.01  0.012743  0.016238  0.020691  0.026367  0.033598  0.042813  0.054556   \n",
       "\n",
       "         8         9         10        11        12        13        14  \\\n",
       "v  0.069519  0.088587  0.112884  0.143845  0.183298  0.233572  0.297635   \n",
       "\n",
       "         15        16        17       18   19  \n",
       "v  0.379269  0.483293  0.615848  0.78476  1.0  "
      ]
     },
     "execution_count": 9,
     "metadata": {},
     "output_type": "execute_result"
    }
   ],
   "source": [
    "print('The ramp speeds are:')\n",
    "pd.DataFrame(np.array(list(vs)).reshape(vs.shape[0],1), columns = list(\"v\")).T"
   ]
  },
  {
   "cell_type": "markdown",
   "metadata": {},
   "source": [
    "## Building the Hamiltonian\n",
    "[[go back to the top]](#Table-of-contents)\n",
    "\n",
    "We first need to build the ramp function `ramp(t)`:"
   ]
  },
  {
   "cell_type": "markdown",
   "metadata": {},
   "source": [
    "### `ramp` function"
   ]
  },
  {
   "cell_type": "code",
   "execution_count": 11,
   "metadata": {},
   "outputs": [],
   "source": [
    "v = 1.0 \n",
    "\n",
    "def ramp(t):\n",
    "    return (0.5 + v*t)\n",
    "\n",
    "ramp_args=[]"
   ]
  },
  {
   "cell_type": "code",
   "execution_count": 12,
   "metadata": {
    "scrolled": true
   },
   "outputs": [
    {
     "data": {
      "image/png": "[encoded data removed]",
      "text/plain": [
       "<Figure size 576x288 with 1 Axes>"
      ]
     },
     "metadata": {
      "needs_background": "light"
     },
     "output_type": "display_data"
    }
   ],
   "source": [
    "fig = plt.figure(figsize=(8, 4));\n",
    "ramp_list = [ramp(t) \n",
    "             for t in range(2)]\n",
    "plt.plot(ramp_list)\n",
    "plt.xlabel('t', fontsize=15)\n",
    "plt.ylabel('ramp(t)', \n",
    "           fontsize=15)\n",
    "plt.yticks(np.arange(0, 2, step=0.2))\n",
    "plt.xticks(np.arange(0, 1.1, step=0.25))\n",
    "plt.show();"
   ]
  },
  {
   "cell_type": "markdown",
   "metadata": {},
   "source": [
    "Following the syntax described in the appendix, the lines of code needed to build the XXZ Hamiltonian are (we will compute the basis in the 0-total magnetisation sector):"
   ]
  },
  {
   "cell_type": "code",
   "execution_count": 13,
   "metadata": {},
   "outputs": [],
   "source": [
    "basis = spin_basis_1d(L,Nup=L//2, pauli=False)\n",
    "\n",
    "J_zz, J_xy = [[Jzz_0,i,i+1] \n",
    "              for i in range(L-1)], [[Jxy/2.0,i,i+1] \n",
    "                                     for i in range(L-1)]\n",
    "\n",
    "static, dynamic = [[\"+-\",J_xy],[\"-+\",J_xy]], [[\"zz\",J_zz,ramp,ramp_args]]"
   ]
  },
  {
   "cell_type": "code",
   "execution_count": 14,
   "metadata": {},
   "outputs": [
    {
     "name": "stdout",
     "output_type": "stream",
     "text": [
      "Hermiticity check passed!\n",
      "Symmetry checks passed!\n",
      "Particle conservation check passed!\n"
     ]
    }
   ],
   "source": [
    "H_XXZ = hamiltonian(static,dynamic,basis=basis,dtype=np.float64)"
   ]
  },
  {
   "cell_type": "markdown",
   "metadata": {},
   "source": [
    "The function `realization`, shown a few cells below, returns two `numpy` arrays, one for each phase (MBL and ETH). Inside each array we put the value of both entropies corresponding to each $v$ (as columns). \n",
    "\n",
    "We need to produce many disorder realisations and average them. The function `realization` computes $s_d$ and $s_e$ for one realization. \n",
    "\n",
    "The following comments are relevant:\n",
    "- `ti` is the initial time \n",
    "- `v` is chosen to be a global variable\n",
    "- `unscaled_fields` is a random field inside [-1.0,1.0] for each lattice site"
   ]
  },
  {
   "cell_type": "code",
   "execution_count": 23,
   "metadata": {},
   "outputs": [
    {
     "name": "stdout",
     "output_type": "stream",
     "text": [
      "random field:\n"
     ]
    },
    {
     "data": {
      "text/html": [
       "<div>\n",
       "<style scoped>\n",
       "    .dataframe tbody tr th:only-of-type {\n",
       "        vertical-align: middle;\n",
       "    }\n",
       "\n",
       "    .dataframe tbody tr th {\n",
       "        vertical-align: top;\n",
       "    }\n",
       "\n",
       "    .dataframe thead th {\n",
       "        text-align: right;\n",
       "    }\n",
       "</style>\n",
       "<table border=\"1\" class=\"dataframe\">\n",
       "  <thead>\n",
       "    <tr style=\"text-align: right;\">\n",
       "      <th></th>\n",
       "      <th>0</th>\n",
       "      <th>1</th>\n",
       "      <th>2</th>\n",
       "      <th>3</th>\n",
       "      <th>4</th>\n",
       "      <th>5</th>\n",
       "      <th>6</th>\n",
       "      <th>7</th>\n",
       "      <th>8</th>\n",
       "      <th>9</th>\n",
       "    </tr>\n",
       "  </thead>\n",
       "  <tbody>\n",
       "    <tr>\n",
       "      <th>random field</th>\n",
       "      <td>0.177147</td>\n",
       "      <td>0.837917</td>\n",
       "      <td>0.527189</td>\n",
       "      <td>-0.861374</td>\n",
       "      <td>-0.279513</td>\n",
       "      <td>0.720321</td>\n",
       "      <td>-0.947146</td>\n",
       "      <td>-0.572016</td>\n",
       "      <td>0.686134</td>\n",
       "      <td>-0.619889</td>\n",
       "    </tr>\n",
       "  </tbody>\n",
       "</table>\n",
       "</div>"
      ],
      "text/plain": [
       "                     0         1         2         3         4         5  \\\n",
       "random field  0.177147  0.837917  0.527189 -0.861374 -0.279513  0.720321   \n",
       "\n",
       "                     6         7         8         9  \n",
       "random field -0.947146 -0.572016  0.686134 -0.619889  "
      ]
     },
     "execution_count": 23,
     "metadata": {},
     "output_type": "execute_result"
    }
   ],
   "source": [
    "unscaled_fields = -1+2*np.random.ranf((basis.L,))\n",
    "print('random field:')\n",
    "pd.DataFrame(np.array(list(unscaled_fields)).reshape(unscaled_fields.shape[0],\n",
    "                                                     1), columns = ['random field']).T"
   ]
  },
  {
   "cell_type": "markdown",
   "metadata": {},
   "source": [
    "- `h_z` is a $z$-field operator site-coupling list"
   ]
  },
  {
   "cell_type": "code",
   "execution_count": 24,
   "metadata": {},
   "outputs": [],
   "source": [
    "def realization(vs, H_XXZ, basis, real):\n",
    "    \n",
    "    ti = time() \n",
    "    global v \n",
    "    np.random.seed() \n",
    "    \n",
    "    unscaled_fields=-1+2*np.random.ranf((basis.L,))\n",
    "    \n",
    "    h_z=[[unscaled_fields[i],i] for \n",
    "         i in range(basis.L)]\n",
    "    disorder_field = [[\"z\", h_z]]\n",
    "    \n",
    "\n",
    "    no_checks={\"check_herm\":False,\n",
    "               \"check_pcon\":False,\n",
    "               \"check_symm\":False}\n",
    "    \n",
    "    Hz=hamiltonian(disorder_field,[],\n",
    "                   basis=basis,\n",
    "                   dtype=np.float64,\n",
    "                   **no_checks)\n",
    "    \n",
    "    H_MBL, H_ETH = H_XXZ + h_MBL*Hz, H_XXZ + h_ETH*Hz\n",
    "    \n",
    "    v=1.0 \n",
    "    \n",
    "    eigsh_args={\"k\":2,\"which\":\"BE\",\n",
    "                \"maxiter\":1E4,\n",
    "                \"return_eigenvectors\":False}\n",
    "    \n",
    "    Emin,Emax=H_MBL.eigsh(time=0.0,**eigsh_args)\n",
    "    E_inf_temp=(Emax+Emin)/2.0\n",
    "\n",
    "    E,psi_0=H_MBL.eigsh(time=0.0,k=1,\n",
    "                        sigma=E_inf_temp,maxiter=1E4)\n",
    "    psi_0=psi_0.reshape((-1,))\n",
    "    \n",
    "    E_final,V_final=H_MBL.eigh(time=(0.5/vs[-1]))\n",
    "    \n",
    "    def _do_ramp(psi_0,H,basis,v,E_final,V_final):\n",
    "\n",
    "        t_f = 0.5/v \n",
    "        psi = H.evolve(psi_0,0.0,t_f)\n",
    "        subsys = range(basis.L//2) \n",
    "        Sent = ent_entropy(psi,basis,\n",
    "                           chain_subsys=subsys)[\"Sent\"]\n",
    "        S_d = diag_ensemble(basis.L,psi,\n",
    "                            E_final,\n",
    "                            V_final,\n",
    "                            Sd_Renyi=True)[\"Sd_pure\"]\n",
    "\n",
    "        return np.asarray([S_d,Sent])\n",
    "    \n",
    "    \n",
    "    run_MBL=[_do_ramp(psi_0,H_MBL,basis,v,E_final,V_final)\n",
    "             for v in vs]\n",
    "    \n",
    "    run_MBL=np.vstack(run_MBL).T\n",
    "    \n",
    "\n",
    "    v=1.0 \n",
    "\n",
    "    Emin,Emax=H_ETH.eigsh(time=0.0,**eigsh_args)\n",
    "    E_inf_temp=(Emax+Emin)/2.0\n",
    "    \n",
    "    E,psi_0=H_ETH.eigsh(time=0.0,k=1,\n",
    "                        sigma=E_inf_temp,maxiter=1E4)\n",
    "    psi_0=psi_0.reshape((-1,))\n",
    "    \n",
    "    E_final,V_final=H_ETH.eigh(time=(0.5/vs[-1]))\n",
    "    \n",
    "    run_ETH=[_do_ramp(psi_0,\n",
    "                      H_ETH,basis,\n",
    "                      v,E_final,\n",
    "                      V_final) for v in vs]\n",
    "    run_ETH=np.vstack(run_ETH).T \n",
    "\n",
    "    \n",
    "    return run_MBL,run_ETH"
   ]
  },
  {
   "cell_type": "markdown",
   "metadata": {},
   "source": [
    "For the first realization:"
   ]
  },
  {
   "cell_type": "code",
   "execution_count": 19,
   "metadata": {},
   "outputs": [
    {
     "name": "stdout",
     "output_type": "stream",
     "text": [
      "velocity grid:\n",
      "\n",
      "[0.01, 0.013, 0.016, 0.021, 0.026, 0.034, 0.043, 0.055, 0.07, 0.089, 0.113, 0.144, 0.183, 0.234, 0.298, 0.379, 0.483, 0.616, 0.785, 1.0]\n"
     ]
    }
   ],
   "source": [
    "print('velocity grid:\\n')\n",
    "print([round(el,3) \n",
    "       for el in list(vs)])"
   ]
  },
  {
   "cell_type": "code",
   "execution_count": 25,
   "metadata": {},
   "outputs": [],
   "source": [
    "s_d_mbl = list(realization(vs,H_XXZ,basis,1)[0][0])\n",
    "s_e_mbl = list(realization(vs,H_XXZ,basis,1)[0][1])\n",
    "s_d_eth = list(realization(vs,H_XXZ,basis,1)[1][0])\n",
    "s_e_eth = list(realization(vs,H_XXZ,basis,1)[1][1])"
   ]
  },
  {
   "cell_type": "code",
   "execution_count": 152,
   "metadata": {},
   "outputs": [],
   "source": [
    "results = pd.DataFrame({'s_d of MBL': s_d_mbl, \n",
    "                        's_e of MBL': s_e_mbl,\n",
    "                        's_d of ETH': s_d_eth, \n",
    "                        's_e of ETH': s_e_eth})\n",
    "\n",
    "results.index.name = 'realization'"
   ]
  },
  {
   "cell_type": "code",
   "execution_count": 153,
   "metadata": {},
   "outputs": [
    {
     "data": {
      "text/html": [
       "<div>\n",
       "<style scoped>\n",
       "    .dataframe tbody tr th:only-of-type {\n",
       "        vertical-align: middle;\n",
       "    }\n",
       "\n",
       "    .dataframe tbody tr th {\n",
       "        vertical-align: top;\n",
       "    }\n",
       "\n",
       "    .dataframe thead th {\n",
       "        text-align: right;\n",
       "    }\n",
       "</style>\n",
       "<table border=\"1\" class=\"dataframe\">\n",
       "  <thead>\n",
       "    <tr style=\"text-align: right;\">\n",
       "      <th></th>\n",
       "      <th>s_d of MBL</th>\n",
       "      <th>s_e of MBL</th>\n",
       "      <th>s_d of ETH</th>\n",
       "      <th>s_e of ETH</th>\n",
       "    </tr>\n",
       "    <tr>\n",
       "      <th>realization</th>\n",
       "      <th></th>\n",
       "      <th></th>\n",
       "      <th></th>\n",
       "      <th></th>\n",
       "    </tr>\n",
       "  </thead>\n",
       "  <tbody>\n",
       "    <tr>\n",
       "      <th>0</th>\n",
       "      <td>1.000856e-13</td>\n",
       "      <td>0.28621</td>\n",
       "      <td>1.932562e-09</td>\n",
       "      <td>0.464687</td>\n",
       "    </tr>\n",
       "    <tr>\n",
       "      <th>1</th>\n",
       "      <td>1.000634e-13</td>\n",
       "      <td>0.28621</td>\n",
       "      <td>1.494026e-09</td>\n",
       "      <td>0.464687</td>\n",
       "    </tr>\n",
       "    <tr>\n",
       "      <th>2</th>\n",
       "      <td>1.000412e-13</td>\n",
       "      <td>0.28621</td>\n",
       "      <td>1.170946e-09</td>\n",
       "      <td>0.464687</td>\n",
       "    </tr>\n",
       "    <tr>\n",
       "      <th>3</th>\n",
       "      <td>1.000856e-13</td>\n",
       "      <td>0.28621</td>\n",
       "      <td>9.089409e-10</td>\n",
       "      <td>0.464687</td>\n",
       "    </tr>\n",
       "    <tr>\n",
       "      <th>4</th>\n",
       "      <td>1.001078e-13</td>\n",
       "      <td>0.28621</td>\n",
       "      <td>7.054291e-10</td>\n",
       "      <td>0.464687</td>\n",
       "    </tr>\n",
       "  </tbody>\n",
       "</table>\n",
       "</div>"
      ],
      "text/plain": [
       "               s_d of MBL  s_e of MBL    s_d of ETH  s_e of ETH\n",
       "realization                                                    \n",
       "0            1.000856e-13     0.28621  1.932562e-09    0.464687\n",
       "1            1.000634e-13     0.28621  1.494026e-09    0.464687\n",
       "2            1.000412e-13     0.28621  1.170946e-09    0.464687\n",
       "3            1.000856e-13     0.28621  9.089409e-10    0.464687\n",
       "4            1.001078e-13     0.28621  7.054291e-10    0.464687"
      ]
     },
     "execution_count": 153,
     "metadata": {},
     "output_type": "execute_result"
    }
   ],
   "source": [
    "results.head()"
   ]
  },
  {
   "cell_type": "markdown",
   "metadata": {},
   "source": [
    "###   `n_real` disorder realisations"
   ]
  },
  {
   "cell_type": "code",
   "execution_count": 154,
   "metadata": {},
   "outputs": [],
   "source": [
    "if __name__ == '__main__':\n",
    "\n",
    "    data = np.asarray([realization(vs,H_XXZ,basis,i) \n",
    "                       for i in range(n_real)])\n",
    "    run_MBL,run_ETH = zip(*data) \n",
    "    mean_MBL = np.mean(run_MBL,axis=0)\n",
    "    mean_ETH = np.mean(run_ETH,axis=0)"
   ]
  },
  {
   "cell_type": "markdown",
   "metadata": {},
   "source": [
    "## Plot results\n",
    "[[go back to the top]](#Table-of-contents)\n",
    "\n",
    "### MBL and ETH plots\n",
    "\n",
    "- subplot 1: diagonal entropy versus ramp speed\n",
    "- subplot 2: entanglement entropy versus ramp speed"
   ]
  },
  {
   "cell_type": "code",
   "execution_count": 155,
   "metadata": {
    "scrolled": false
   },
   "outputs": [
    {
     "data": {
      "text/plain": [
       "[<matplotlib.lines.Line2D at 0x1c1f605400>]"
      ]
     },
     "execution_count": 155,
     "metadata": {},
     "output_type": "execute_result"
    },
    {
     "data": {
      "text/plain": [
       "Text(0,0.5,'$s_d(t_f)$_MBL')"
      ]
     },
     "execution_count": 155,
     "metadata": {},
     "output_type": "execute_result"
    },
    {
     "data": {
      "text/plain": [
       "Text(0.5,0,'$v/J_{zz}(0)$')"
      ]
     },
     "execution_count": 155,
     "metadata": {},
     "output_type": "execute_result"
    },
    {
     "data": {
      "text/plain": [
       "[<matplotlib.lines.Line2D at 0x1c1f335c18>]"
      ]
     },
     "execution_count": 155,
     "metadata": {},
     "output_type": "execute_result"
    },
    {
     "data": {
      "text/plain": [
       "Text(0,0.5,'$s_\\\\mathrm{ent}(t_f)$_MBL')"
      ]
     },
     "execution_count": 155,
     "metadata": {},
     "output_type": "execute_result"
    },
    {
     "data": {
      "text/plain": [
       "Text(0.5,0,'$v/J_{zz}(0)$')"
      ]
     },
     "execution_count": 155,
     "metadata": {},
     "output_type": "execute_result"
    },
    {
     "data": {
      "image/png": "[encoded data removed]",
      "text/plain": [
       "<Figure size 576x576 with 2 Axes>"
      ]
     },
     "metadata": {
      "needs_background": "light"
     },
     "output_type": "display_data"
    },
    {
     "data": {
      "text/plain": [
       "[<matplotlib.lines.Line2D at 0x1c1eccf080>]"
      ]
     },
     "execution_count": 155,
     "metadata": {},
     "output_type": "execute_result"
    },
    {
     "data": {
      "text/plain": [
       "Text(0,0.5,'$s_d(t_f)$_ETH')"
      ]
     },
     "execution_count": 155,
     "metadata": {},
     "output_type": "execute_result"
    },
    {
     "data": {
      "text/plain": [
       "Text(0.5,0,'$v/J_{zz}(0)$')"
      ]
     },
     "execution_count": 155,
     "metadata": {},
     "output_type": "execute_result"
    },
    {
     "data": {
      "text/plain": [
       "[<matplotlib.lines.Line2D at 0x1c1ea778d0>]"
      ]
     },
     "execution_count": 155,
     "metadata": {},
     "output_type": "execute_result"
    },
    {
     "data": {
      "text/plain": [
       "Text(0,0.5,'$s_\\\\mathrm{ent}(t_f)$_ETH')"
      ]
     },
     "execution_count": 155,
     "metadata": {},
     "output_type": "execute_result"
    },
    {
     "data": {
      "text/plain": [
       "Text(0.5,0,'$v/J_{zz}(0)$')"
      ]
     },
     "execution_count": 155,
     "metadata": {},
     "output_type": "execute_result"
    },
    {
     "data": {
      "image/png": "[encoded data removed]",
      "text/plain": [
       "<Figure size 576x576 with 2 Axes>"
      ]
     },
     "metadata": {
      "needs_background": "light"
     },
     "output_type": "display_data"
    }
   ],
   "source": [
    "from pylab import rcParams\n",
    "\n",
    "rcParams['figure.figsize'] = 8, 8;\n",
    "\n",
    "for phase in ['MBL', 'ETH']:\n",
    "\n",
    "    fig, pltarr1 = plt.subplots(2,sharex=True); \n",
    "    pltarr1[0].plot(vs,\n",
    "                    eval('mean_{}'.format(phase))[0],\n",
    "                    label = phase,\n",
    "                    marker=\".\",\n",
    "                    color=\"blue\"); \n",
    "    pltarr1[0].set_ylabel(\"$s_d(t_f)$\" + '_' + phase,\n",
    "                          fontsize=22); \n",
    "    pltarr1[0].set_xlabel(\"$v/J_{zz}(0)$\",\n",
    "                          fontsize=22);\n",
    "    pltarr1[0].set_xscale(\"log\"); \n",
    "    pltarr1[0].grid(True,which='both'); \n",
    "    pltarr1[0].tick_params(labelsize=16);\n",
    "    pltarr1[1].plot(vs,\n",
    "                    eval('mean_{}'.format(phase))[1],\n",
    "                    marker=\".\",\n",
    "                    color=\"blue\"); \n",
    "    pltarr1[1].set_ylabel(\"$s_\\mathrm{ent}(t_f)$\" + '_'+ phase, \n",
    "                          fontsize=22); \n",
    "    pltarr1[1].set_xlabel(\"$v/J_{zz}(0)$\",\n",
    "                          fontsize=22);\n",
    "    pltarr1[1].set_xscale(\"log\");\n",
    "    pltarr1[1].grid(True,which='both') ;\n",
    "    pltarr1[1].tick_params(labelsize=16);\n",
    "    plt.tight_layout();\n",
    "    plt.show();"
   ]
  },
  {
   "cell_type": "markdown",
   "metadata": {},
   "source": [
    "## Acknowledgements\n",
    "[[go back to the top]](#Table-of-contents)\n",
    "\n",
    "This notebook is **heavily** based on the [excellent tutorial](https://scipost.org/10.21468/SciPostPhys.2.1.003) about the [QuSPin package](https://github.com/weinbe58/QuSpin) created by [Phillip Weinberg](https://github.com/weinbe58) and [Marin Bukov](https://mgbukov.github.io/)."
   ]
  },
  {
   "cell_type": "markdown",
   "metadata": {},
   "source": [
    "## Appendix\n",
    "[[go back to the top]](#Table-of-contents)"
   ]
  },
  {
   "cell_type": "markdown",
   "metadata": {},
   "source": [
    "### Building a basis\n",
    "\n",
    "A few observations:\n",
    "- The optional argument `pauli = False` prevents the code to use the Pauli matrices instead of spin matrices as needed. \n",
    "- We choose half-filling and the number of spins-up is rounded down. \n",
    "- Furthermore, since this Hamiltonian conserves parity (which in this case corresponds to reflection with respect to the middle of the chain), the Hilbert space is divided into two subspaces and we must choose one of them. To choose positive parity we set the optional argument `pblock=1`."
   ]
  },
  {
   "cell_type": "code",
   "execution_count": 82,
   "metadata": {},
   "outputs": [
    {
     "name": "stdout",
     "output_type": "stream",
     "text": [
      " The basis vectors are given by:\n",
      "\n",
      " reference states: \n",
      "       0.  |1 1 1 1 1 0 0 0 0 0>\n",
      "       1.  |1 1 1 1 0 1 0 0 0 0>\n",
      "       2.  |1 1 1 1 0 0 1 0 0 0>\n",
      "       3.  |1 1 1 1 0 0 0 1 0 0>\n",
      "       4.  |1 1 1 1 0 0 0 0 1 0>\n",
      "       5.  |1 1 1 1 0 0 0 0 0 1>\n",
      "       6.  |1 1 1 0 1 1 0 0 0 0>\n",
      "       7.  |1 1 1 0 1 0 1 0 0 0>\n",
      "       8.  |1 1 1 0 1 0 0 1 0 0>\n",
      "       9.  |1 1 1 0 1 0 0 0 1 0>\n",
      "      10.  |1 1 1 0 1 0 0 0 0 1>\n",
      "      11.  |1 1 1 0 0 1 1 0 0 0>\n",
      "      12.  |1 1 1 0 0 1 0 1 0 0>\n",
      "      13.  |1 1 1 0 0 1 0 0 1 0>\n",
      "      14.  |1 1 1 0 0 1 0 0 0 1>\n",
      "      15.  |1 1 1 0 0 0 1 1 0 0>\n",
      "      16.  |1 1 1 0 0 0 1 0 1 0>\n",
      "      17.  |1 1 1 0 0 0 1 0 0 1>\n",
      "      18.  |1 1 1 0 0 0 0 1 1 0>\n",
      "      19.  |1 1 1 0 0 0 0 1 0 1>\n",
      "      20.  |1 1 1 0 0 0 0 0 1 1>\n",
      "      21.  |1 1 0 1 1 1 0 0 0 0>\n",
      "      22.  |1 1 0 1 1 0 1 0 0 0>\n",
      "      23.  |1 1 0 1 1 0 0 1 0 0>\n",
      "      24.  |1 1 0 1 1 0 0 0 1 0>\n",
      "                     :\n",
      "     101.  |0 1 1 1 1 0 0 0 1 0>\n",
      "     102.  |0 1 1 1 0 1 1 0 0 0>\n",
      "     103.  |0 1 1 1 0 1 0 1 0 0>\n",
      "     104.  |0 1 1 1 0 1 0 0 1 0>\n",
      "     105.  |0 1 1 1 0 0 1 1 0 0>\n",
      "     106.  |0 1 1 1 0 0 1 0 1 0>\n",
      "     107.  |0 1 1 1 0 0 0 1 1 0>\n",
      "     108.  |0 1 1 0 1 1 1 0 0 0>\n",
      "     109.  |0 1 1 0 1 1 0 1 0 0>\n",
      "     110.  |0 1 1 0 1 1 0 0 1 0>\n",
      "     111.  |0 1 1 0 1 0 1 1 0 0>\n",
      "     112.  |0 1 1 0 1 0 1 0 1 0>\n",
      "     113.  |0 1 1 0 1 0 0 1 1 0>\n",
      "     114.  |0 1 1 0 0 1 1 1 0 0>\n",
      "     115.  |0 1 1 0 0 1 1 0 1 0>\n",
      "     116.  |0 1 0 1 1 1 1 0 0 0>\n",
      "     117.  |0 1 0 1 1 1 0 1 0 0>\n",
      "     118.  |0 1 0 1 1 1 0 0 1 0>\n",
      "     119.  |0 1 0 1 1 0 1 1 0 0>\n",
      "     120.  |0 1 0 1 1 0 1 0 1 0>\n",
      "     121.  |0 1 0 1 0 1 1 1 0 0>\n",
      "     122.  |0 1 0 0 1 1 1 1 0 0>\n",
      "     123.  |0 0 1 1 1 1 1 0 0 0>\n",
      "     124.  |0 0 1 1 1 1 0 1 0 0>\n",
      "     125.  |0 0 1 1 1 0 1 1 0 0>\n",
      "The states printed do NOT correspond to the physical states: see review arXiv:1101.3281 for more details about reference states for symmetry-reduced blocks.\n",
      "\n"
     ]
    }
   ],
   "source": [
    "basis = spin_basis_1d(L, pauli=False, Nup = L//2, pblock = 1)\n",
    "print(' The basis vectors are given by:\\n\\n',basis)"
   ]
  },
  {
   "cell_type": "markdown",
   "metadata": {},
   "source": [
    "### Operators \n",
    "\n",
    "We will choose open boundary conditions in this case. To define the operators we use [list comprehensions](https://docs.python.org/3/tutorial/datastructures.html#list-comprehensions). "
   ]
  },
  {
   "cell_type": "code",
   "execution_count": null,
   "metadata": {},
   "outputs": [],
   "source": [
    "def spin_operators(coupling, L):\n",
    "    return [[coupling,i,i+1] for i in range(L-1)]"
   ]
  },
  {
   "cell_type": "code",
   "execution_count": 76,
   "metadata": {},
   "outputs": [],
   "source": [
    "L, Jxy, Jzz, hz = 10, 1.0, 1.0, 1.0"
   ]
  },
  {
   "cell_type": "code",
   "execution_count": 77,
   "metadata": {},
   "outputs": [],
   "source": [
    "J_zz = spin_operators(Jzz, L)\n",
    "J_xy = spin_operators(Jxy/2.0, L)\n",
    "h_z=[[hz,i] for i in range(L)]"
   ]
  },
  {
   "cell_type": "markdown",
   "metadata": {},
   "source": [
    "### Hamiltonian\n",
    "\n",
    "In this case we have a static Hamiltonian. The corresponding syntax is:"
   ]
  },
  {
   "cell_type": "code",
   "execution_count": 78,
   "metadata": {},
   "outputs": [
    {
     "name": "stdout",
     "output_type": "stream",
     "text": [
      "Hermiticity check passed!\n",
      "Symmetry checks passed!\n",
      "Particle conservation check passed!\n"
     ]
    }
   ],
   "source": [
    "static, dynamic = [[\"+-\",J_xy],[\"-+\",J_xy],[\"zz\",J_zz],[\"z\",h_z]], []\n",
    "H_XXZ = hamiltonian(static,dynamic,basis=basis,dtype=np.float64)"
   ]
  },
  {
   "cell_type": "markdown",
   "metadata": {},
   "source": [
    "The eigenvalues are obtained using:"
   ]
  },
  {
   "cell_type": "code",
   "execution_count": 79,
   "metadata": {
    "scrolled": true
   },
   "outputs": [
    {
     "name": "stdout",
     "output_type": "stream",
     "text": [
      "Some eigenvalues are:\n",
      "\n",
      "Lowest: [-3.9, -3.2, -3.2, -3.0, -2.7] \n",
      "\n",
      "Highest: [2.0, 2.0, 2.1, 2.1, 2.3]\n"
     ]
    }
   ],
   "source": [
    "E = H_XXZ.eigvalsh()\n",
    "\n",
    "print('Some eigenvalues are:\\n')\n",
    "print('Lowest:',[round(el,1) for el in sorted(E)[0:5]],'\\n')\n",
    "print('Highest:',[round(el,1) for el in sorted(E)[len(E)-5:]])"
   ]
  },
  {
   "cell_type": "markdown",
   "metadata": {},
   "source": []
  }
 ],
 "metadata": {
  "kernelspec": {
   "display_name": "Python 3",
   "language": "python",
   "name": "python3"
  },
  "language_info": {
   "codemirror_mode": {
    "name": "ipython",
    "version": 3
   },
   "file_extension": ".py",
   "mimetype": "text/x-python",
   "name": "python",
   "nbconvert_exporter": "python",
   "pygments_lexer": "ipython3",
   "version": "3.6.6"
  }
 },
 "nbformat": 4,
 "nbformat_minor": 2
}
