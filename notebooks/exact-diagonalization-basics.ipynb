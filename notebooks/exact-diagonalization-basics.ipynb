{
 "cells": [
  {
   "cell_type": "markdown",
   "metadata": {},
   "source": [
    "<br>\n",
    "<br>\n",
    "<p align=\"center\">\n",
    "  <img src=\"images/SHAP-vitruvian.png\" \n",
    "       width=\"50\">\n",
    "</p>\n",
    "<p align=\"center\">\n",
    "  <img src=\"images/qsffe.png\" \n",
    "       width=\"400\">\n",
    "</p>\n",
    "</p>\n",
    "<p align=\"center\">\n",
    "  <img src=\"images/tuv.png\" \n",
    "       width=\"150\">\n",
    "</p>"
   ]
  },
  {
   "cell_type": "markdown",
   "metadata": {},
   "source": [
    "# Exact Diagonalization Basics"
   ]
  },
  {
   "cell_type": "markdown",
   "metadata": {},
   "source": [
    "## Importing modules\n",
    "\n",
    "This notebook will follow very closely the documentation found [here](https://scipost.org/SciPostPhys.2.1.003/pdf). The first step is to import the necessary modules. Besides `numPy`, we will need:\n",
    "- The basis module `quspin.basis` to build our Hilbert space\n",
    "- The operators module `quspin.operators` to build our Hamiltonian and operators"
   ]
  },
  {
   "cell_type": "code",
   "execution_count": 1,
   "metadata": {},
   "outputs": [],
   "source": [
    "from quspin.operators import hamiltonian\n",
    "from quspin.basis import spin_basis_1d \n",
    "import numpy as np"
   ]
  },
  {
   "cell_type": "markdown",
   "metadata": {},
   "source": [
    "## Our Hamiltonian\n",
    "\n",
    "Let us start with the XXZ Hamiltonian in an external field $h_z$\n",
    "\n",
    "$$ H = \\sum\\limits_{j = 0}^{L - 2} {\\frac{{{J_{xy}}}}{2}(S_{j + 1}^ + S_j^ -  + {\\rm{h.c.}})}  + {J_{zz}}S_{j + 1}^zS_j^z + {h_z}\\sum\\limits_{j = 0}^{L - 1} {S_j^z}, $$\n",
    "\n",
    "and choose our parameters:\n",
    "- The lattice size $L=12$\n",
    "- The couplings $J_{xy}=\\sqrt 2$ and $J_{zz}=1$\n",
    "- The external field $h_z=1/{\\sqrt 3}$"
   ]
  },
  {
   "cell_type": "code",
   "execution_count": 2,
   "metadata": {},
   "outputs": [
    {
     "name": "stdout",
     "output_type": "stream",
     "text": [
      " The system size, xy coupling, zz coupling and external fields are:\n",
      " L = 12 \n",
      " Jxy =  1.41 \n",
      " Jzz =  1.0 \n",
      " h_z =  0.58\n"
     ]
    }
   ],
   "source": [
    "L, Jxy, Jzz, hz = 12, np.sqrt(2.0), 1.0, 1.0/np.sqrt(3.0)\n",
    "print(' The system size, xy coupling, zz coupling and external fields are:\\n','L =',L,\n",
    "      '\\n Jxy = ',round(Jxy,2),'\\n Jzz = ',Jzz,'\\n h_z = ',round(hz,2))"
   ]
  },
  {
   "cell_type": "markdown",
   "metadata": {},
   "source": [
    "## Basis\n",
    "\n",
    "A few observations:\n",
    "- The optional argument `pauli = False` prevents the code to use the Pauli matrices instead of spin matrices as needed. \n",
    "- We choose half-filling and the number of spins-up is rounded down. \n",
    "- Furthermore, since this Hamiltonian conserves parity (which in this case corresponds to reflection with respect to the middle of the chain), the Hilbert space is divided into two subspaces and we must choose one of them. To choose positive parity we set the optional argument `pblock=1`."
   ]
  },
  {
   "cell_type": "code",
   "execution_count": 3,
   "metadata": {},
   "outputs": [
    {
     "name": "stdout",
     "output_type": "stream",
     "text": [
      " The basis vectors are given by:\n",
      "\n",
      " reference states: \n",
      "       0.  |1 1 1 1 1 1 0 0 0 0 0 0>\n",
      "       1.  |1 1 1 1 1 0 1 0 0 0 0 0>\n",
      "       2.  |1 1 1 1 1 0 0 1 0 0 0 0>\n",
      "       3.  |1 1 1 1 1 0 0 0 1 0 0 0>\n",
      "       4.  |1 1 1 1 1 0 0 0 0 1 0 0>\n",
      "       5.  |1 1 1 1 1 0 0 0 0 0 1 0>\n",
      "       6.  |1 1 1 1 1 0 0 0 0 0 0 1>\n",
      "       7.  |1 1 1 1 0 1 1 0 0 0 0 0>\n",
      "       8.  |1 1 1 1 0 1 0 1 0 0 0 0>\n",
      "       9.  |1 1 1 1 0 1 0 0 1 0 0 0>\n",
      "      10.  |1 1 1 1 0 1 0 0 0 1 0 0>\n",
      "      11.  |1 1 1 1 0 1 0 0 0 0 1 0>\n",
      "      12.  |1 1 1 1 0 1 0 0 0 0 0 1>\n",
      "      13.  |1 1 1 1 0 0 1 1 0 0 0 0>\n",
      "      14.  |1 1 1 1 0 0 1 0 1 0 0 0>\n",
      "      15.  |1 1 1 1 0 0 1 0 0 1 0 0>\n",
      "      16.  |1 1 1 1 0 0 1 0 0 0 1 0>\n",
      "      17.  |1 1 1 1 0 0 1 0 0 0 0 1>\n",
      "      18.  |1 1 1 1 0 0 0 1 1 0 0 0>\n",
      "      19.  |1 1 1 1 0 0 0 1 0 1 0 0>\n",
      "      20.  |1 1 1 1 0 0 0 1 0 0 1 0>\n",
      "      21.  |1 1 1 1 0 0 0 1 0 0 0 1>\n",
      "      22.  |1 1 1 1 0 0 0 0 1 1 0 0>\n",
      "      23.  |1 1 1 1 0 0 0 0 1 0 1 0>\n",
      "      24.  |1 1 1 1 0 0 0 0 1 0 0 1>\n",
      "                       :\n",
      "     447.  |0 1 0 1 0 1 0 1 1 1 0 0>\n",
      "     448.  |0 1 0 1 0 0 1 1 1 1 0 0>\n",
      "     449.  |0 1 0 0 1 1 1 1 1 0 0 0>\n",
      "     450.  |0 1 0 0 1 1 1 1 0 1 0 0>\n",
      "     451.  |0 1 0 0 1 1 1 1 0 0 1 0>\n",
      "     452.  |0 1 0 0 1 1 1 0 1 1 0 0>\n",
      "     453.  |0 1 0 0 1 1 0 1 1 1 0 0>\n",
      "     454.  |0 1 0 0 1 0 1 1 1 1 0 0>\n",
      "     455.  |0 1 0 0 0 1 1 1 1 1 0 0>\n",
      "     456.  |0 0 1 1 1 1 1 1 0 0 0 0>\n",
      "     457.  |0 0 1 1 1 1 1 0 1 0 0 0>\n",
      "     458.  |0 0 1 1 1 1 1 0 0 1 0 0>\n",
      "     459.  |0 0 1 1 1 1 0 1 1 0 0 0>\n",
      "     460.  |0 0 1 1 1 1 0 1 0 1 0 0>\n",
      "     461.  |0 0 1 1 1 1 0 0 1 1 0 0>\n",
      "     462.  |0 0 1 1 1 0 1 1 1 0 0 0>\n",
      "     463.  |0 0 1 1 1 0 1 1 0 1 0 0>\n",
      "     464.  |0 0 1 1 1 0 1 0 1 1 0 0>\n",
      "     465.  |0 0 1 1 1 0 0 1 1 1 0 0>\n",
      "     466.  |0 0 1 1 0 1 1 1 1 0 0 0>\n",
      "     467.  |0 0 1 1 0 1 1 1 0 1 0 0>\n",
      "     468.  |0 0 1 1 0 1 1 0 1 1 0 0>\n",
      "     469.  |0 0 1 0 1 1 1 1 1 0 0 0>\n",
      "     470.  |0 0 1 0 1 1 1 1 0 1 0 0>\n",
      "     471.  |0 0 0 1 1 1 1 1 1 0 0 0>\n",
      "The states printed do NOT correspond to the physical states: see review arXiv:1101.3281 for more details about reference states for symmetry-reduced blocks.\n",
      "\n"
     ]
    }
   ],
   "source": [
    "basis = spin_basis_1d(L, pauli=False, Nup = L//2, pblock = 1)\n",
    "print(' The basis vectors are given by:\\n\\n',basis)"
   ]
  },
  {
   "cell_type": "markdown",
   "metadata": {},
   "source": [
    "## Operators \n",
    "\n",
    "We will choose open boundary conditions in this case. To define the operators we use [list comprehensions](https://docs.python.org/3/tutorial/datastructures.html#list-comprehensions). "
   ]
  },
  {
   "cell_type": "code",
   "execution_count": 4,
   "metadata": {},
   "outputs": [],
   "source": [
    "def spin_operators(coupling, L):\n",
    "    return [[coupling,i,i+1] for i in range(L-1)]"
   ]
  },
  {
   "cell_type": "code",
   "execution_count": 5,
   "metadata": {},
   "outputs": [],
   "source": [
    "J_zz = spin_operators(Jzz, L)\n",
    "J_xy = spin_operators(Jxy/2.0, L)\n",
    "h_z=[[hz,i] for i in range(L)]"
   ]
  },
  {
   "cell_type": "markdown",
   "metadata": {},
   "source": [
    "## Hamiltonian\n",
    "\n",
    "In this case we have a static Hamiltonian. The corresponding syntax is:"
   ]
  },
  {
   "cell_type": "code",
   "execution_count": 6,
   "metadata": {},
   "outputs": [
    {
     "name": "stdout",
     "output_type": "stream",
     "text": [
      "Hermiticity check passed!\n",
      "Symmetry checks passed!\n",
      "Particle conservation check passed!\n"
     ]
    }
   ],
   "source": [
    "static, dynamic = [[\"+-\",J_xy],[\"-+\",J_xy],[\"zz\",J_zz],[\"z\",h_z]], []\n",
    "H_XXZ = hamiltonian(static,dynamic,basis=basis,dtype=np.float64)"
   ]
  },
  {
   "cell_type": "markdown",
   "metadata": {},
   "source": [
    "The eigenvalues are obtained using:"
   ]
  },
  {
   "cell_type": "code",
   "execution_count": 7,
   "metadata": {},
   "outputs": [
    {
     "name": "stdout",
     "output_type": "stream",
     "text": [
      "Some eigenvalues are:\n",
      "\n",
      "Lowest: [-6.6, -5.7, -5.7, -5.0, -5.0] \n",
      "\n",
      "Highest: [3.5, 3.5, 3.8, 3.8, 4.1]\n"
     ]
    }
   ],
   "source": [
    "E = H_XXZ.eigvalsh()\n",
    "\n",
    "print('Some eigenvalues are:\\n')\n",
    "print('Lowest:',[round(el,1) for el in sorted(E)[0:5]],'\\n')\n",
    "print('Highest:',[round(el,1) for el in sorted(E)[len(E)-5:]])"
   ]
  }
 ],
 "metadata": {
  "kernelspec": {
   "display_name": "Python 3",
   "language": "python",
   "name": "python3"
  },
  "language_info": {
   "codemirror_mode": {
    "name": "ipython",
    "version": 3
   },
   "file_extension": ".py",
   "mimetype": "text/x-python",
   "name": "python",
   "nbconvert_exporter": "python",
   "pygments_lexer": "ipython3",
   "version": "3.6.5"
  }
 },
 "nbformat": 4,
 "nbformat_minor": 2
}
